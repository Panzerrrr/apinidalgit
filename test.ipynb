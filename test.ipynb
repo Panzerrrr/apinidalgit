{
 "cells": [
  {
   "cell_type": "code",
   "execution_count": 1,
   "metadata": {},
   "outputs": [
    {
     "data": {
      "text/plain": [
       "'{\"prediction\":\"virginica\",\"probability\":0.97}'"
      ]
     },
     "execution_count": 1,
     "metadata": {},
     "output_type": "execute_result"
    }
   ],
   "source": [
    "import requests\n",
    " \n",
    "url = 'http://127.0.0.1:8000/predict'\n",
    "headers = {\n",
    "   'accept': 'application/json',\n",
    "   'Content-Type': 'application/json',\n",
    "}\n",
    " \n",
    "data = '{\"sepal_length\": 6.2,\"sepal_width\": 3.4,\"petal_length\": 5.4,\"petal_width\": 2.3}'\n",
    "response = requests.get(url, headers=headers, data=data)\n",
    "response.text\n"
   ]
  }
 ],
 "metadata": {
  "kernelspec": {
   "display_name": "Python 3.8.12 64-bit ('simplon')",
   "language": "python",
   "name": "python3"
  },
  "language_info": {
   "codemirror_mode": {
    "name": "ipython",
    "version": 3
   },
   "file_extension": ".py",
   "mimetype": "text/x-python",
   "name": "python",
   "nbconvert_exporter": "python",
   "pygments_lexer": "ipython3",
   "version": "3.8.12"
  },
  "orig_nbformat": 4,
  "vscode": {
   "interpreter": {
    "hash": "aaf3399b026849e0f032c21a091650cac1bca37393deeb5b47ebb5b1b687ccb4"
   }
  }
 },
 "nbformat": 4,
 "nbformat_minor": 2
}
